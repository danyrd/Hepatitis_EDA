{
 "cells": [
  {
   "cell_type": "markdown",
   "id": "c0cbccb3",
   "metadata": {},
   "source": [
    "# Hepatitis- Data Analysis"
   ]
  },
  {
   "cell_type": "code",
   "execution_count": 1,
   "id": "889e4c5c",
   "metadata": {},
   "outputs": [],
   "source": [
    "#importing the necessary libraries required to perform EDA\n",
    "import pandas as pd\n",
    "import numpy as np\n",
    "import matplotlib.pyplot as plt\n",
    "import seaborn as sns"
   ]
  },
  {
   "cell_type": "markdown",
   "id": "e5637067",
   "metadata": {},
   "source": [
    "Reading the dataset"
   ]
  },
  {
   "cell_type": "code",
   "execution_count": 2,
   "id": "fb1f71a5",
   "metadata": {},
   "outputs": [],
   "source": [
    "data = pd.read_csv(\"hepatitis_csv.csv\")"
   ]
  },
  {
   "cell_type": "code",
   "execution_count": 3,
   "id": "e5217fdf",
   "metadata": {},
   "outputs": [
    {
     "data": {
      "text/html": [
       "<div>\n",
       "<style scoped>\n",
       "    .dataframe tbody tr th:only-of-type {\n",
       "        vertical-align: middle;\n",
       "    }\n",
       "\n",
       "    .dataframe tbody tr th {\n",
       "        vertical-align: top;\n",
       "    }\n",
       "\n",
       "    .dataframe thead th {\n",
       "        text-align: right;\n",
       "    }\n",
       "</style>\n",
       "<table border=\"1\" class=\"dataframe\">\n",
       "  <thead>\n",
       "    <tr style=\"text-align: right;\">\n",
       "      <th></th>\n",
       "      <th>age</th>\n",
       "      <th>sex</th>\n",
       "      <th>steroid</th>\n",
       "      <th>antivirals</th>\n",
       "      <th>fatigue</th>\n",
       "      <th>malaise</th>\n",
       "      <th>anorexia</th>\n",
       "      <th>liver_big</th>\n",
       "      <th>liver_firm</th>\n",
       "      <th>spleen_palpable</th>\n",
       "      <th>spiders</th>\n",
       "      <th>ascites</th>\n",
       "      <th>varices</th>\n",
       "      <th>bilirubin</th>\n",
       "      <th>alk_phosphate</th>\n",
       "      <th>sgot</th>\n",
       "      <th>albumin</th>\n",
       "      <th>protime</th>\n",
       "      <th>histology</th>\n",
       "      <th>class</th>\n",
       "    </tr>\n",
       "  </thead>\n",
       "  <tbody>\n",
       "    <tr>\n",
       "      <th>0</th>\n",
       "      <td>30</td>\n",
       "      <td>male</td>\n",
       "      <td>False</td>\n",
       "      <td>False</td>\n",
       "      <td>False</td>\n",
       "      <td>False</td>\n",
       "      <td>False</td>\n",
       "      <td>False</td>\n",
       "      <td>False</td>\n",
       "      <td>False</td>\n",
       "      <td>False</td>\n",
       "      <td>False</td>\n",
       "      <td>False</td>\n",
       "      <td>1.0</td>\n",
       "      <td>85.0</td>\n",
       "      <td>18.0</td>\n",
       "      <td>4.0</td>\n",
       "      <td>NaN</td>\n",
       "      <td>False</td>\n",
       "      <td>live</td>\n",
       "    </tr>\n",
       "    <tr>\n",
       "      <th>1</th>\n",
       "      <td>50</td>\n",
       "      <td>female</td>\n",
       "      <td>False</td>\n",
       "      <td>False</td>\n",
       "      <td>True</td>\n",
       "      <td>False</td>\n",
       "      <td>False</td>\n",
       "      <td>False</td>\n",
       "      <td>False</td>\n",
       "      <td>False</td>\n",
       "      <td>False</td>\n",
       "      <td>False</td>\n",
       "      <td>False</td>\n",
       "      <td>0.9</td>\n",
       "      <td>135.0</td>\n",
       "      <td>42.0</td>\n",
       "      <td>3.5</td>\n",
       "      <td>NaN</td>\n",
       "      <td>False</td>\n",
       "      <td>live</td>\n",
       "    </tr>\n",
       "    <tr>\n",
       "      <th>2</th>\n",
       "      <td>78</td>\n",
       "      <td>female</td>\n",
       "      <td>True</td>\n",
       "      <td>False</td>\n",
       "      <td>True</td>\n",
       "      <td>False</td>\n",
       "      <td>False</td>\n",
       "      <td>True</td>\n",
       "      <td>False</td>\n",
       "      <td>False</td>\n",
       "      <td>False</td>\n",
       "      <td>False</td>\n",
       "      <td>False</td>\n",
       "      <td>0.7</td>\n",
       "      <td>96.0</td>\n",
       "      <td>32.0</td>\n",
       "      <td>4.0</td>\n",
       "      <td>NaN</td>\n",
       "      <td>False</td>\n",
       "      <td>live</td>\n",
       "    </tr>\n",
       "    <tr>\n",
       "      <th>3</th>\n",
       "      <td>31</td>\n",
       "      <td>female</td>\n",
       "      <td>NaN</td>\n",
       "      <td>True</td>\n",
       "      <td>False</td>\n",
       "      <td>False</td>\n",
       "      <td>False</td>\n",
       "      <td>True</td>\n",
       "      <td>False</td>\n",
       "      <td>False</td>\n",
       "      <td>False</td>\n",
       "      <td>False</td>\n",
       "      <td>False</td>\n",
       "      <td>0.7</td>\n",
       "      <td>46.0</td>\n",
       "      <td>52.0</td>\n",
       "      <td>4.0</td>\n",
       "      <td>80.0</td>\n",
       "      <td>False</td>\n",
       "      <td>live</td>\n",
       "    </tr>\n",
       "    <tr>\n",
       "      <th>4</th>\n",
       "      <td>34</td>\n",
       "      <td>female</td>\n",
       "      <td>True</td>\n",
       "      <td>False</td>\n",
       "      <td>False</td>\n",
       "      <td>False</td>\n",
       "      <td>False</td>\n",
       "      <td>True</td>\n",
       "      <td>False</td>\n",
       "      <td>False</td>\n",
       "      <td>False</td>\n",
       "      <td>False</td>\n",
       "      <td>False</td>\n",
       "      <td>1.0</td>\n",
       "      <td>NaN</td>\n",
       "      <td>200.0</td>\n",
       "      <td>4.0</td>\n",
       "      <td>NaN</td>\n",
       "      <td>False</td>\n",
       "      <td>live</td>\n",
       "    </tr>\n",
       "  </tbody>\n",
       "</table>\n",
       "</div>"
      ],
      "text/plain": [
       "   age     sex steroid  antivirals fatigue malaise anorexia liver_big  \\\n",
       "0   30    male   False       False   False   False    False     False   \n",
       "1   50  female   False       False    True   False    False     False   \n",
       "2   78  female    True       False    True   False    False      True   \n",
       "3   31  female     NaN        True   False   False    False      True   \n",
       "4   34  female    True       False   False   False    False      True   \n",
       "\n",
       "  liver_firm spleen_palpable spiders ascites varices  bilirubin  \\\n",
       "0      False           False   False   False   False        1.0   \n",
       "1      False           False   False   False   False        0.9   \n",
       "2      False           False   False   False   False        0.7   \n",
       "3      False           False   False   False   False        0.7   \n",
       "4      False           False   False   False   False        1.0   \n",
       "\n",
       "   alk_phosphate   sgot  albumin  protime  histology class  \n",
       "0           85.0   18.0      4.0      NaN      False  live  \n",
       "1          135.0   42.0      3.5      NaN      False  live  \n",
       "2           96.0   32.0      4.0      NaN      False  live  \n",
       "3           46.0   52.0      4.0     80.0      False  live  \n",
       "4            NaN  200.0      4.0      NaN      False  live  "
      ]
     },
     "execution_count": 3,
     "metadata": {},
     "output_type": "execute_result"
    }
   ],
   "source": [
    "data.head()"
   ]
  },
  {
   "cell_type": "markdown",
   "id": "bb52cf20",
   "metadata": {},
   "source": [
    "Lets check the columns in the dataset"
   ]
  },
  {
   "cell_type": "code",
   "execution_count": 4,
   "id": "1b977687",
   "metadata": {},
   "outputs": [
    {
     "data": {
      "text/plain": [
       "Index(['age', 'sex', 'steroid', 'antivirals', 'fatigue', 'malaise', 'anorexia',\n",
       "       'liver_big', 'liver_firm', 'spleen_palpable', 'spiders', 'ascites',\n",
       "       'varices', 'bilirubin', 'alk_phosphate', 'sgot', 'albumin', 'protime',\n",
       "       'histology', 'class'],\n",
       "      dtype='object')"
      ]
     },
     "execution_count": 4,
     "metadata": {},
     "output_type": "execute_result"
    }
   ],
   "source": [
    "data.columns"
   ]
  },
  {
   "cell_type": "markdown",
   "id": "56ce626f",
   "metadata": {},
   "source": [
    "Lets see the shape of the dataset"
   ]
  },
  {
   "cell_type": "code",
   "execution_count": 5,
   "id": "0ece986d",
   "metadata": {},
   "outputs": [
    {
     "data": {
      "text/plain": [
       "(155, 20)"
      ]
     },
     "execution_count": 5,
     "metadata": {},
     "output_type": "execute_result"
    }
   ],
   "source": [
    "data.shape"
   ]
  },
  {
   "cell_type": "markdown",
   "id": "af17651b",
   "metadata": {},
   "source": [
    "Now lets see some information for each column in the dataset"
   ]
  },
  {
   "cell_type": "code",
   "execution_count": 6,
   "id": "0fc52d1b",
   "metadata": {},
   "outputs": [
    {
     "name": "stdout",
     "output_type": "stream",
     "text": [
      "<class 'pandas.core.frame.DataFrame'>\n",
      "RangeIndex: 155 entries, 0 to 154\n",
      "Data columns (total 20 columns):\n",
      " #   Column           Non-Null Count  Dtype  \n",
      "---  ------           --------------  -----  \n",
      " 0   age              155 non-null    int64  \n",
      " 1   sex              155 non-null    object \n",
      " 2   steroid          154 non-null    object \n",
      " 3   antivirals       155 non-null    bool   \n",
      " 4   fatigue          154 non-null    object \n",
      " 5   malaise          154 non-null    object \n",
      " 6   anorexia         154 non-null    object \n",
      " 7   liver_big        145 non-null    object \n",
      " 8   liver_firm       144 non-null    object \n",
      " 9   spleen_palpable  150 non-null    object \n",
      " 10  spiders          150 non-null    object \n",
      " 11  ascites          150 non-null    object \n",
      " 12  varices          150 non-null    object \n",
      " 13  bilirubin        149 non-null    float64\n",
      " 14  alk_phosphate    126 non-null    float64\n",
      " 15  sgot             151 non-null    float64\n",
      " 16  albumin          139 non-null    float64\n",
      " 17  protime          88 non-null     float64\n",
      " 18  histology        155 non-null    bool   \n",
      " 19  class            155 non-null    object \n",
      "dtypes: bool(2), float64(5), int64(1), object(12)\n",
      "memory usage: 22.2+ KB\n"
     ]
    }
   ],
   "source": [
    "data.info()"
   ]
  },
  {
   "cell_type": "markdown",
   "id": "036302e4",
   "metadata": {},
   "source": [
    "Now Lets describe each of the columns of the dataset by values such as count, mean, standard deviation, minimum value,maximum value, Quarter Percentile, Half Percentile and 75% Percentile"
   ]
  },
  {
   "cell_type": "code",
   "execution_count": 7,
   "id": "4b82258c",
   "metadata": {},
   "outputs": [
    {
     "data": {
      "text/html": [
       "<div>\n",
       "<style scoped>\n",
       "    .dataframe tbody tr th:only-of-type {\n",
       "        vertical-align: middle;\n",
       "    }\n",
       "\n",
       "    .dataframe tbody tr th {\n",
       "        vertical-align: top;\n",
       "    }\n",
       "\n",
       "    .dataframe thead th {\n",
       "        text-align: right;\n",
       "    }\n",
       "</style>\n",
       "<table border=\"1\" class=\"dataframe\">\n",
       "  <thead>\n",
       "    <tr style=\"text-align: right;\">\n",
       "      <th></th>\n",
       "      <th>age</th>\n",
       "      <th>bilirubin</th>\n",
       "      <th>alk_phosphate</th>\n",
       "      <th>sgot</th>\n",
       "      <th>albumin</th>\n",
       "      <th>protime</th>\n",
       "    </tr>\n",
       "  </thead>\n",
       "  <tbody>\n",
       "    <tr>\n",
       "      <th>count</th>\n",
       "      <td>155.000000</td>\n",
       "      <td>149.000000</td>\n",
       "      <td>126.000000</td>\n",
       "      <td>151.00000</td>\n",
       "      <td>139.000000</td>\n",
       "      <td>88.000000</td>\n",
       "    </tr>\n",
       "    <tr>\n",
       "      <th>mean</th>\n",
       "      <td>41.200000</td>\n",
       "      <td>1.427517</td>\n",
       "      <td>105.325397</td>\n",
       "      <td>85.89404</td>\n",
       "      <td>3.817266</td>\n",
       "      <td>61.852273</td>\n",
       "    </tr>\n",
       "    <tr>\n",
       "      <th>std</th>\n",
       "      <td>12.565878</td>\n",
       "      <td>1.212149</td>\n",
       "      <td>51.508109</td>\n",
       "      <td>89.65089</td>\n",
       "      <td>0.651523</td>\n",
       "      <td>22.875244</td>\n",
       "    </tr>\n",
       "    <tr>\n",
       "      <th>min</th>\n",
       "      <td>7.000000</td>\n",
       "      <td>0.300000</td>\n",
       "      <td>26.000000</td>\n",
       "      <td>14.00000</td>\n",
       "      <td>2.100000</td>\n",
       "      <td>0.000000</td>\n",
       "    </tr>\n",
       "    <tr>\n",
       "      <th>25%</th>\n",
       "      <td>32.000000</td>\n",
       "      <td>0.700000</td>\n",
       "      <td>74.250000</td>\n",
       "      <td>31.50000</td>\n",
       "      <td>3.400000</td>\n",
       "      <td>46.000000</td>\n",
       "    </tr>\n",
       "    <tr>\n",
       "      <th>50%</th>\n",
       "      <td>39.000000</td>\n",
       "      <td>1.000000</td>\n",
       "      <td>85.000000</td>\n",
       "      <td>58.00000</td>\n",
       "      <td>4.000000</td>\n",
       "      <td>61.000000</td>\n",
       "    </tr>\n",
       "    <tr>\n",
       "      <th>75%</th>\n",
       "      <td>50.000000</td>\n",
       "      <td>1.500000</td>\n",
       "      <td>132.250000</td>\n",
       "      <td>100.50000</td>\n",
       "      <td>4.200000</td>\n",
       "      <td>76.250000</td>\n",
       "    </tr>\n",
       "    <tr>\n",
       "      <th>max</th>\n",
       "      <td>78.000000</td>\n",
       "      <td>8.000000</td>\n",
       "      <td>295.000000</td>\n",
       "      <td>648.00000</td>\n",
       "      <td>6.400000</td>\n",
       "      <td>100.000000</td>\n",
       "    </tr>\n",
       "  </tbody>\n",
       "</table>\n",
       "</div>"
      ],
      "text/plain": [
       "              age   bilirubin  alk_phosphate       sgot     albumin  \\\n",
       "count  155.000000  149.000000     126.000000  151.00000  139.000000   \n",
       "mean    41.200000    1.427517     105.325397   85.89404    3.817266   \n",
       "std     12.565878    1.212149      51.508109   89.65089    0.651523   \n",
       "min      7.000000    0.300000      26.000000   14.00000    2.100000   \n",
       "25%     32.000000    0.700000      74.250000   31.50000    3.400000   \n",
       "50%     39.000000    1.000000      85.000000   58.00000    4.000000   \n",
       "75%     50.000000    1.500000     132.250000  100.50000    4.200000   \n",
       "max     78.000000    8.000000     295.000000  648.00000    6.400000   \n",
       "\n",
       "          protime  \n",
       "count   88.000000  \n",
       "mean    61.852273  \n",
       "std     22.875244  \n",
       "min      0.000000  \n",
       "25%     46.000000  \n",
       "50%     61.000000  \n",
       "75%     76.250000  \n",
       "max    100.000000  "
      ]
     },
     "execution_count": 7,
     "metadata": {},
     "output_type": "execute_result"
    }
   ],
   "source": [
    "data.describe()"
   ]
  },
  {
   "cell_type": "markdown",
   "id": "b4798ac0",
   "metadata": {},
   "source": [
    "The next step in this is checking for Null values"
   ]
  },
  {
   "cell_type": "code",
   "execution_count": 8,
   "id": "a6fa5dda",
   "metadata": {},
   "outputs": [
    {
     "data": {
      "text/plain": [
       "age                 0\n",
       "sex                 0\n",
       "steroid             1\n",
       "antivirals          0\n",
       "fatigue             1\n",
       "malaise             1\n",
       "anorexia            1\n",
       "liver_big          10\n",
       "liver_firm         11\n",
       "spleen_palpable     5\n",
       "spiders             5\n",
       "ascites             5\n",
       "varices             5\n",
       "bilirubin           6\n",
       "alk_phosphate      29\n",
       "sgot                4\n",
       "albumin            16\n",
       "protime            67\n",
       "histology           0\n",
       "class               0\n",
       "dtype: int64"
      ]
     },
     "execution_count": 8,
     "metadata": {},
     "output_type": "execute_result"
    }
   ],
   "source": [
    "data.isnull().sum()"
   ]
  },
  {
   "cell_type": "markdown",
   "id": "0e66dec4",
   "metadata": {},
   "source": [
    "As we can clearly see there are null values present in the dataset except 5 columns"
   ]
  },
  {
   "cell_type": "markdown",
   "id": "6183fa2a",
   "metadata": {},
   "source": [
    "# Let us check the Correlation among  various features of the dataset"
   ]
  },
  {
   "cell_type": "code",
   "execution_count": 9,
   "id": "32c6230f",
   "metadata": {},
   "outputs": [
    {
     "data": {
      "text/html": [
       "<div>\n",
       "<style scoped>\n",
       "    .dataframe tbody tr th:only-of-type {\n",
       "        vertical-align: middle;\n",
       "    }\n",
       "\n",
       "    .dataframe tbody tr th {\n",
       "        vertical-align: top;\n",
       "    }\n",
       "\n",
       "    .dataframe thead th {\n",
       "        text-align: right;\n",
       "    }\n",
       "</style>\n",
       "<table border=\"1\" class=\"dataframe\">\n",
       "  <thead>\n",
       "    <tr style=\"text-align: right;\">\n",
       "      <th></th>\n",
       "      <th>age</th>\n",
       "      <th>antivirals</th>\n",
       "      <th>bilirubin</th>\n",
       "      <th>alk_phosphate</th>\n",
       "      <th>sgot</th>\n",
       "      <th>albumin</th>\n",
       "      <th>protime</th>\n",
       "      <th>histology</th>\n",
       "    </tr>\n",
       "  </thead>\n",
       "  <tbody>\n",
       "    <tr>\n",
       "      <th>age</th>\n",
       "      <td>1.000000</td>\n",
       "      <td>0.013100</td>\n",
       "      <td>0.125463</td>\n",
       "      <td>0.008924</td>\n",
       "      <td>0.082545</td>\n",
       "      <td>-0.262981</td>\n",
       "      <td>-0.222233</td>\n",
       "      <td>0.170780</td>\n",
       "    </tr>\n",
       "    <tr>\n",
       "      <th>antivirals</th>\n",
       "      <td>0.013100</td>\n",
       "      <td>1.000000</td>\n",
       "      <td>-0.185023</td>\n",
       "      <td>-0.205236</td>\n",
       "      <td>-0.108138</td>\n",
       "      <td>0.170074</td>\n",
       "      <td>0.030287</td>\n",
       "      <td>-0.209242</td>\n",
       "    </tr>\n",
       "    <tr>\n",
       "      <th>bilirubin</th>\n",
       "      <td>0.125463</td>\n",
       "      <td>-0.185023</td>\n",
       "      <td>1.000000</td>\n",
       "      <td>0.220062</td>\n",
       "      <td>0.232967</td>\n",
       "      <td>-0.377318</td>\n",
       "      <td>-0.302608</td>\n",
       "      <td>0.262428</td>\n",
       "    </tr>\n",
       "    <tr>\n",
       "      <th>alk_phosphate</th>\n",
       "      <td>0.008924</td>\n",
       "      <td>-0.205236</td>\n",
       "      <td>0.220062</td>\n",
       "      <td>1.000000</td>\n",
       "      <td>0.239581</td>\n",
       "      <td>-0.403857</td>\n",
       "      <td>-0.226846</td>\n",
       "      <td>0.284914</td>\n",
       "    </tr>\n",
       "    <tr>\n",
       "      <th>sgot</th>\n",
       "      <td>0.082545</td>\n",
       "      <td>-0.108138</td>\n",
       "      <td>0.232967</td>\n",
       "      <td>0.239581</td>\n",
       "      <td>1.000000</td>\n",
       "      <td>-0.136276</td>\n",
       "      <td>-0.189149</td>\n",
       "      <td>0.131125</td>\n",
       "    </tr>\n",
       "    <tr>\n",
       "      <th>albumin</th>\n",
       "      <td>-0.262981</td>\n",
       "      <td>0.170074</td>\n",
       "      <td>-0.377318</td>\n",
       "      <td>-0.403857</td>\n",
       "      <td>-0.136276</td>\n",
       "      <td>1.000000</td>\n",
       "      <td>0.424419</td>\n",
       "      <td>-0.324751</td>\n",
       "    </tr>\n",
       "    <tr>\n",
       "      <th>protime</th>\n",
       "      <td>-0.222233</td>\n",
       "      <td>0.030287</td>\n",
       "      <td>-0.302608</td>\n",
       "      <td>-0.226846</td>\n",
       "      <td>-0.189149</td>\n",
       "      <td>0.424419</td>\n",
       "      <td>1.000000</td>\n",
       "      <td>-0.312062</td>\n",
       "    </tr>\n",
       "    <tr>\n",
       "      <th>histology</th>\n",
       "      <td>0.170780</td>\n",
       "      <td>-0.209242</td>\n",
       "      <td>0.262428</td>\n",
       "      <td>0.284914</td>\n",
       "      <td>0.131125</td>\n",
       "      <td>-0.324751</td>\n",
       "      <td>-0.312062</td>\n",
       "      <td>1.000000</td>\n",
       "    </tr>\n",
       "  </tbody>\n",
       "</table>\n",
       "</div>"
      ],
      "text/plain": [
       "                    age  antivirals  bilirubin  alk_phosphate      sgot  \\\n",
       "age            1.000000    0.013100   0.125463       0.008924  0.082545   \n",
       "antivirals     0.013100    1.000000  -0.185023      -0.205236 -0.108138   \n",
       "bilirubin      0.125463   -0.185023   1.000000       0.220062  0.232967   \n",
       "alk_phosphate  0.008924   -0.205236   0.220062       1.000000  0.239581   \n",
       "sgot           0.082545   -0.108138   0.232967       0.239581  1.000000   \n",
       "albumin       -0.262981    0.170074  -0.377318      -0.403857 -0.136276   \n",
       "protime       -0.222233    0.030287  -0.302608      -0.226846 -0.189149   \n",
       "histology      0.170780   -0.209242   0.262428       0.284914  0.131125   \n",
       "\n",
       "                albumin   protime  histology  \n",
       "age           -0.262981 -0.222233   0.170780  \n",
       "antivirals     0.170074  0.030287  -0.209242  \n",
       "bilirubin     -0.377318 -0.302608   0.262428  \n",
       "alk_phosphate -0.403857 -0.226846   0.284914  \n",
       "sgot          -0.136276 -0.189149   0.131125  \n",
       "albumin        1.000000  0.424419  -0.324751  \n",
       "protime        0.424419  1.000000  -0.312062  \n",
       "histology     -0.324751 -0.312062   1.000000  "
      ]
     },
     "execution_count": 9,
     "metadata": {},
     "output_type": "execute_result"
    }
   ],
   "source": [
    "data.corr()"
   ]
  },
  {
   "cell_type": "markdown",
   "id": "40e94b22",
   "metadata": {},
   "source": [
    "Dropping the 'protime' column in the dataframe as it contains a lot of null values and is of no use in the EDA"
   ]
  },
  {
   "cell_type": "code",
   "execution_count": 10,
   "id": "b0cb97db",
   "metadata": {},
   "outputs": [],
   "source": [
    "data.drop(\"protime\", axis = 1, inplace=True)"
   ]
  },
  {
   "cell_type": "code",
   "execution_count": 11,
   "id": "55b162d2",
   "metadata": {},
   "outputs": [
    {
     "data": {
      "text/plain": [
       "(155, 19)"
      ]
     },
     "execution_count": 11,
     "metadata": {},
     "output_type": "execute_result"
    }
   ],
   "source": [
    "data.shape"
   ]
  },
  {
   "cell_type": "markdown",
   "id": "6b2da85c",
   "metadata": {},
   "source": [
    "Creating a dataframe which only contains numeric data of the main dataset"
   ]
  },
  {
   "cell_type": "code",
   "execution_count": 12,
   "id": "88375816",
   "metadata": {},
   "outputs": [],
   "source": [
    "numeric_data = data._get_numeric_data()"
   ]
  },
  {
   "cell_type": "code",
   "execution_count": 13,
   "id": "ffb0df2a",
   "metadata": {},
   "outputs": [
    {
     "data": {
      "text/html": [
       "<div>\n",
       "<style scoped>\n",
       "    .dataframe tbody tr th:only-of-type {\n",
       "        vertical-align: middle;\n",
       "    }\n",
       "\n",
       "    .dataframe tbody tr th {\n",
       "        vertical-align: top;\n",
       "    }\n",
       "\n",
       "    .dataframe thead th {\n",
       "        text-align: right;\n",
       "    }\n",
       "</style>\n",
       "<table border=\"1\" class=\"dataframe\">\n",
       "  <thead>\n",
       "    <tr style=\"text-align: right;\">\n",
       "      <th></th>\n",
       "      <th>age</th>\n",
       "      <th>antivirals</th>\n",
       "      <th>bilirubin</th>\n",
       "      <th>alk_phosphate</th>\n",
       "      <th>sgot</th>\n",
       "      <th>albumin</th>\n",
       "      <th>histology</th>\n",
       "    </tr>\n",
       "  </thead>\n",
       "  <tbody>\n",
       "    <tr>\n",
       "      <th>0</th>\n",
       "      <td>30</td>\n",
       "      <td>False</td>\n",
       "      <td>1.0</td>\n",
       "      <td>85.0</td>\n",
       "      <td>18.0</td>\n",
       "      <td>4.0</td>\n",
       "      <td>False</td>\n",
       "    </tr>\n",
       "    <tr>\n",
       "      <th>1</th>\n",
       "      <td>50</td>\n",
       "      <td>False</td>\n",
       "      <td>0.9</td>\n",
       "      <td>135.0</td>\n",
       "      <td>42.0</td>\n",
       "      <td>3.5</td>\n",
       "      <td>False</td>\n",
       "    </tr>\n",
       "    <tr>\n",
       "      <th>2</th>\n",
       "      <td>78</td>\n",
       "      <td>False</td>\n",
       "      <td>0.7</td>\n",
       "      <td>96.0</td>\n",
       "      <td>32.0</td>\n",
       "      <td>4.0</td>\n",
       "      <td>False</td>\n",
       "    </tr>\n",
       "    <tr>\n",
       "      <th>3</th>\n",
       "      <td>31</td>\n",
       "      <td>True</td>\n",
       "      <td>0.7</td>\n",
       "      <td>46.0</td>\n",
       "      <td>52.0</td>\n",
       "      <td>4.0</td>\n",
       "      <td>False</td>\n",
       "    </tr>\n",
       "    <tr>\n",
       "      <th>4</th>\n",
       "      <td>34</td>\n",
       "      <td>False</td>\n",
       "      <td>1.0</td>\n",
       "      <td>NaN</td>\n",
       "      <td>200.0</td>\n",
       "      <td>4.0</td>\n",
       "      <td>False</td>\n",
       "    </tr>\n",
       "  </tbody>\n",
       "</table>\n",
       "</div>"
      ],
      "text/plain": [
       "   age  antivirals  bilirubin  alk_phosphate   sgot  albumin  histology\n",
       "0   30       False        1.0           85.0   18.0      4.0      False\n",
       "1   50       False        0.9          135.0   42.0      3.5      False\n",
       "2   78       False        0.7           96.0   32.0      4.0      False\n",
       "3   31        True        0.7           46.0   52.0      4.0      False\n",
       "4   34       False        1.0            NaN  200.0      4.0      False"
      ]
     },
     "execution_count": 13,
     "metadata": {},
     "output_type": "execute_result"
    }
   ],
   "source": [
    "numeric_data.head()"
   ]
  },
  {
   "cell_type": "markdown",
   "id": "2a392d37",
   "metadata": {},
   "source": [
    "Let's Drop the columns antivirals and histology as they are not Numeric"
   ]
  },
  {
   "cell_type": "code",
   "execution_count": 14,
   "id": "5a1e9802",
   "metadata": {},
   "outputs": [],
   "source": [
    "numeric_data.drop('antivirals', axis=1, inplace=True)\n",
    "numeric_data.drop('histology', axis=1, inplace=True)"
   ]
  },
  {
   "cell_type": "code",
   "execution_count": 15,
   "id": "594809d7",
   "metadata": {},
   "outputs": [
    {
     "name": "stdout",
     "output_type": "stream",
     "text": [
      "<class 'pandas.core.frame.DataFrame'>\n",
      "RangeIndex: 155 entries, 0 to 154\n",
      "Data columns (total 5 columns):\n",
      " #   Column         Non-Null Count  Dtype  \n",
      "---  ------         --------------  -----  \n",
      " 0   age            155 non-null    int64  \n",
      " 1   bilirubin      149 non-null    float64\n",
      " 2   alk_phosphate  126 non-null    float64\n",
      " 3   sgot           151 non-null    float64\n",
      " 4   albumin        139 non-null    float64\n",
      "dtypes: float64(4), int64(1)\n",
      "memory usage: 6.2 KB\n"
     ]
    }
   ],
   "source": [
    "numeric_data.info()"
   ]
  },
  {
   "cell_type": "markdown",
   "id": "96460ac7",
   "metadata": {},
   "source": [
    "# Creating a Correlation Plot to understand the correlation among various features in a better way visually"
   ]
  },
  {
   "cell_type": "code",
   "execution_count": 16,
   "id": "17b6f21f",
   "metadata": {},
   "outputs": [
    {
     "data": {
      "text/plain": [
       "<AxesSubplot:>"
      ]
     },
     "execution_count": 16,
     "metadata": {},
     "output_type": "execute_result"
    },
    {
     "data": {
      "image/png": "[encoded data removed]",
      "text/plain": [
       "<Figure size 432x288 with 2 Axes>"
      ]
     },
     "metadata": {
      "needs_background": "light"
     },
     "output_type": "display_data"
    }
   ],
   "source": [
    "sns.heatmap(data.corr(), annot=True)"
   ]
  },
  {
   "cell_type": "markdown",
   "id": "e7d52d20",
   "metadata": {},
   "source": [
    " The correlation plot here shows us that features 'bilirubin' and 'alk_phosphate' both have higher positive correlation with 'histology' and features 'bilirubin' and 'alk_phosphate' both have higher negative correlation with 'albumin'"
   ]
  },
  {
   "cell_type": "code",
   "execution_count": 17,
   "id": "e92e76a2",
   "metadata": {},
   "outputs": [
    {
     "data": {
      "text/plain": [
       "<seaborn.axisgrid.FacetGrid at 0x18b80701fd0>"
      ]
     },
     "execution_count": 17,
     "metadata": {},
     "output_type": "execute_result"
    },
    {
     "data": {
      "text/plain": [
       "<Figure size 1440x720 with 0 Axes>"
      ]
     },
     "metadata": {},
     "output_type": "display_data"
    },
    {
     "data": {
      "image/png": "[encoded data removed]",
      "text/plain": [
       "<Figure size 360x360 with 1 Axes>"
      ]
     },
     "metadata": {
      "needs_background": "light"
     },
     "output_type": "display_data"
    }
   ],
   "source": [
    "#creating a distplot \n",
    "plt.figure(figsize=(20, 10))\n",
    "sns.displot(data.age, bins=40)"
   ]
  },
  {
   "cell_type": "markdown",
   "id": "7cb31fca",
   "metadata": {},
   "source": [
    "This shows that most of the people in the dataset are in the age between 25-50(approx.) with maximum people having age = 36-38 and 50-55. Only a few people with age<=30 and age>=62 suffer from Hepatitis"
   ]
  },
  {
   "cell_type": "code",
   "execution_count": 18,
   "id": "4b1cf89a",
   "metadata": {},
   "outputs": [
    {
     "data": {
      "text/plain": [
       "<seaborn.axisgrid.FacetGrid at 0x18b81922820>"
      ]
     },
     "execution_count": 18,
     "metadata": {},
     "output_type": "execute_result"
    },
    {
     "data": {
      "text/plain": [
       "<Figure size 1440x720 with 0 Axes>"
      ]
     },
     "metadata": {},
     "output_type": "display_data"
    },
    {
     "data": {
      "image/png": "[encoded data removed]",
      "text/plain": [
       "<Figure size 360x360 with 1 Axes>"
      ]
     },
     "metadata": {
      "needs_background": "light"
     },
     "output_type": "display_data"
    }
   ],
   "source": [
    "plt.figure(figsize=(20, 10))\n",
    "sns.displot(data.bilirubin, bins=40)"
   ]
  },
  {
   "cell_type": "markdown",
   "id": "379a7bb0",
   "metadata": {},
   "source": [
    "the above plot indicate that people with lower bilirubin (values between 0-2) are more prone to Hepatitis"
   ]
  },
  {
   "cell_type": "code",
   "execution_count": 19,
   "id": "1166175b",
   "metadata": {},
   "outputs": [
    {
     "data": {
      "text/plain": [
       "<seaborn.axisgrid.FacetGrid at 0x18b807ce280>"
      ]
     },
     "execution_count": 19,
     "metadata": {},
     "output_type": "execute_result"
    },
    {
     "data": {
      "text/plain": [
       "<Figure size 1440x720 with 0 Axes>"
      ]
     },
     "metadata": {},
     "output_type": "display_data"
    },
    {
     "data": {
      "image/png": "[encoded data removed]",
      "text/plain": [
       "<Figure size 360x360 with 1 Axes>"
      ]
     },
     "metadata": {
      "needs_background": "light"
     },
     "output_type": "display_data"
    }
   ],
   "source": [
    "plt.figure(figsize=(20, 10))\n",
    "sns.displot(data.alk_phosphate, bins=40)"
   ]
  },
  {
   "cell_type": "markdown",
   "id": "486a11e5",
   "metadata": {},
   "source": [
    "This implies that Maximum people have alkaline phosphate value of 80-100"
   ]
  },
  {
   "cell_type": "markdown",
   "id": "3c150409",
   "metadata": {},
   "source": [
    "# Comparing the Gender Distribution in the given Dataset"
   ]
  },
  {
   "cell_type": "code",
   "execution_count": 20,
   "id": "a983f4bf",
   "metadata": {},
   "outputs": [
    {
     "data": {
      "text/plain": [
       "<AxesSubplot:title={'center':'Gender Distribution'}>"
      ]
     },
     "execution_count": 20,
     "metadata": {},
     "output_type": "execute_result"
    },
    {
     "data": {
      "image/png": "[encoded data removed]",
      "text/plain": [
       "<Figure size 1440x720 with 1 Axes>"
      ]
     },
     "metadata": {
      "needs_background": "light"
     },
     "output_type": "display_data"
    }
   ],
   "source": [
    "plt.figure(figsize=(20, 10))\n",
    "data['sex'].value_counts().plot(kind=\"bar\", title='Gender Distribution')"
   ]
  },
  {
   "cell_type": "code",
   "execution_count": 21,
   "id": "47ad502d",
   "metadata": {},
   "outputs": [
    {
     "data": {
      "text/plain": [
       "female    139\n",
       "male       16\n",
       "Name: sex, dtype: int64"
      ]
     },
     "execution_count": 21,
     "metadata": {},
     "output_type": "execute_result"
    }
   ],
   "source": [
    "data['sex'].nunique()\n",
    "data['sex'].value_counts()\n"
   ]
  },
  {
   "cell_type": "code",
   "execution_count": 22,
   "id": "46a180a7",
   "metadata": {},
   "outputs": [
    {
     "data": {
      "image/png": "[encoded data removed]",
      "text/plain": [
       "<Figure size 432x288 with 1 Axes>"
      ]
     },
     "metadata": {},
     "output_type": "display_data"
    }
   ],
   "source": [
    "Pie_chart = np.array([139,16])\n",
    "data1=['139,16']\n",
    "labels1 =['female-139','male-16']\n",
    "plt.pie(Pie_chart,labels=labels1)\n",
    "plt.show()"
   ]
  },
  {
   "cell_type": "markdown",
   "id": "d30db64c",
   "metadata": {},
   "source": [
    "most of the people in the given dataset are female and Females are more prone to Hepatitis as compared to Males"
   ]
  },
  {
   "cell_type": "code",
   "execution_count": 23,
   "id": "22169952",
   "metadata": {},
   "outputs": [
    {
     "data": {
      "text/plain": [
       "live    123\n",
       "die      32\n",
       "Name: class, dtype: int64"
      ]
     },
     "execution_count": 23,
     "metadata": {},
     "output_type": "execute_result"
    }
   ],
   "source": [
    "data['class'].value_counts()"
   ]
  },
  {
   "cell_type": "code",
   "execution_count": 24,
   "id": "d654d1b4",
   "metadata": {},
   "outputs": [
    {
     "data": {
      "text/plain": [
       "<AxesSubplot:xlabel='class', ylabel='count'>"
      ]
     },
     "execution_count": 24,
     "metadata": {},
     "output_type": "execute_result"
    },
    {
     "data": {
      "image/png": "[encoded data removed]",
      "text/plain": [
       "<Figure size 432x288 with 1 Axes>"
      ]
     },
     "metadata": {
      "needs_background": "light"
     },
     "output_type": "display_data"
    }
   ],
   "source": [
    "sns.countplot(x='class',hue='class',data=data)"
   ]
  },
  {
   "cell_type": "code",
   "execution_count": null,
   "id": "43c66c86",
   "metadata": {},
   "outputs": [],
   "source": []
  }
 ],
 "metadata": {
  "kernelspec": {
   "display_name": "Python 3",
   "language": "python",
   "name": "python3"
  },
  "language_info": {
   "codemirror_mode": {
    "name": "ipython",
    "version": 3
   },
   "file_extension": ".py",
   "mimetype": "text/x-python",
   "name": "python",
   "nbconvert_exporter": "python",
   "pygments_lexer": "ipython3",
   "version": "3.8.8"
  }
 },
 "nbformat": 4,
 "nbformat_minor": 5
}
